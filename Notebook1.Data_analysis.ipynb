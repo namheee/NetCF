{
 "cells": [
  {
   "cell_type": "code",
   "execution_count": 25,
   "id": "378987e7-2b48-4a19-94a2-8ac5f69848b6",
   "metadata": {
    "scrolled": true
   },
   "outputs": [],
   "source": [
    "# load library\n",
    "suppressPackageStartupMessages(library(org.Hs.eg.db))\n",
    "suppressPackageStartupMessages(library(viper))\n",
    "suppressPackageStartupMessages(library(fgsea))\n",
    "suppressPackageStartupMessages(library(dplyr))\n",
    "suppressPackageStartupMessages(library(tidyr))\n",
    "suppressPackageStartupMessages(library(readr))\n",
    "suppressPackageStartupMessages(library(dplyr))\n",
    "suppressPackageStartupMessages(library(tidyr))\n",
    "suppressPackageStartupMessages(library(readr))\n",
    "suppressPackageStartupMessages(library(AnnotationDbi))\n",
    "hs <- org.Hs.eg.db\n",
    "select<-AnnotationDbi::select"
   ]
  },
  {
   "cell_type": "code",
   "execution_count": null,
   "id": "d6715114-ecc8-4e1c-9947-fbc5cf547661",
   "metadata": {},
   "outputs": [],
   "source": [
    "#######################################\n",
    "## 0. preprocessing - normalizedData ##\n",
    "#######################################\n",
    "filtered <- function(cntData, cellName){\n",
    "  veh <- grep(cellName,colnames(cntData))[grep('veh',colnames(cntData)[grep(cellName,colnames(cntData))])]\n",
    "  tram <- grep(cellName,colnames(cntData))[grep('tram',colnames(cntData)[grep(cellName,colnames(cntData))])]\n",
    "  df <-cntData[,c(veh,tram)]\n",
    "  return(df)}\n",
    "\n",
    "normalizedData <- read_csv('/data/Gitcode/QuantSeq_normalized.csv')\n",
    "geneName<-list(normalizedData$`Gene symbol`)\n",
    "normalizedData<-aggregate(normalizedData, by=geneName, FUN=max)\n",
    "rownames(normalizedData)<-normalizedData$Group.1\n",
    "normalizedData<-normalizedData[,-c(1)]\n",
    "\n",
    "sw1573edata<-filtered(normalizedData,'SW1573')\n",
    "a549edata<-filtered(normalizedData,'A549')\n",
    "h2009edata<-filtered(normalizedData,'H2009')\n",
    "h1792edata<-filtered(normalizedData,'H1792')\n",
    "\n",
    "sw1573edata2 <- sw1573edata[matrixStats::rowVars(as.matrix(sw1573edata))>0.1,]\n",
    "a549edata2 <- a549edata[matrixStats::rowVars(as.matrix(a549edata))>0.1,]\n",
    "h2009edata2 <- h2009edata[matrixStats::rowVars(as.matrix(h2009edata))>0.1,]\n",
    "h1792edata2 <- h1792edata[matrixStats::rowVars(as.matrix(h1792edata))>0.1,]"
   ]
  },
  {
   "cell_type": "code",
   "execution_count": null,
   "id": "110120d0-2ffb-4307-94cd-1f6d8c26f1ff",
   "metadata": {},
   "outputs": [],
   "source": []
  },
  {
   "cell_type": "code",
   "execution_count": 22,
   "id": "3486da65-a0f8-4b16-b5e7-8ecce7ceb2fd",
   "metadata": {
    "scrolled": true
   },
   "outputs": [
    {
     "name": "stderr",
     "output_type": "stream",
     "text": [
      "'select()' returned 1:many mapping between keys and columns\n",
      "\n"
     ]
    },
    {
     "name": "stdout",
     "output_type": "stream",
     "text": [
      "[1] veh  veh  veh  tram tram tram\n",
      "Levels: tram veh\n"
     ]
    },
    {
     "name": "stderr",
     "output_type": "stream",
     "text": [
      "Warning message:\n",
      "“Not enough samples to compute null model by sample permutation, gene permutation will be used instead”\n",
      "'select()' returned 1:many mapping between keys and columns\n",
      "\n",
      "'select()' returned 1:many mapping between keys and columns\n",
      "\n"
     ]
    },
    {
     "name": "stdout",
     "output_type": "stream",
     "text": [
      "[1] veh  veh  veh  tram tram tram\n",
      "Levels: tram veh\n"
     ]
    },
    {
     "name": "stderr",
     "output_type": "stream",
     "text": [
      "Warning message:\n",
      "“Not enough samples to compute null model by sample permutation, gene permutation will be used instead”\n",
      "'select()' returned 1:many mapping between keys and columns\n",
      "\n",
      "'select()' returned 1:many mapping between keys and columns\n",
      "\n"
     ]
    },
    {
     "name": "stdout",
     "output_type": "stream",
     "text": [
      "[1] veh  veh  veh  tram tram tram\n",
      "Levels: tram veh\n"
     ]
    },
    {
     "name": "stderr",
     "output_type": "stream",
     "text": [
      "Warning message:\n",
      "“Not enough samples to compute null model by sample permutation, gene permutation will be used instead”\n",
      "'select()' returned 1:many mapping between keys and columns\n",
      "\n",
      "'select()' returned 1:many mapping between keys and columns\n",
      "\n"
     ]
    },
    {
     "name": "stdout",
     "output_type": "stream",
     "text": [
      "[1] veh  veh  veh  tram tram tram\n",
      "Levels: tram veh\n"
     ]
    },
    {
     "name": "stderr",
     "output_type": "stream",
     "text": [
      "Warning message:\n",
      "“Not enough samples to compute null model by sample permutation, gene permutation will be used instead”\n",
      "'select()' returned 1:many mapping between keys and columns\n",
      "\n",
      "'select()' returned 1:many mapping between keys and columns\n",
      "\n"
     ]
    },
    {
     "name": "stdout",
     "output_type": "stream",
     "text": [
      "[1] veh  veh  veh  tram tram tram\n",
      "Levels: tram veh\n"
     ]
    },
    {
     "name": "stderr",
     "output_type": "stream",
     "text": [
      "Warning message:\n",
      "“Not enough samples to compute null model by sample permutation, gene permutation will be used instead”\n",
      "'select()' returned 1:many mapping between keys and columns\n",
      "\n",
      "'select()' returned 1:many mapping between keys and columns\n",
      "\n"
     ]
    },
    {
     "name": "stdout",
     "output_type": "stream",
     "text": [
      "[1] veh  veh  veh  tram tram tram\n",
      "Levels: tram veh\n"
     ]
    },
    {
     "name": "stderr",
     "output_type": "stream",
     "text": [
      "Warning message:\n",
      "“Not enough samples to compute null model by sample permutation, gene permutation will be used instead”\n",
      "'select()' returned 1:many mapping between keys and columns\n",
      "\n",
      "'select()' returned 1:many mapping between keys and columns\n",
      "\n"
     ]
    },
    {
     "name": "stdout",
     "output_type": "stream",
     "text": [
      "[1] veh  veh  veh  tram tram tram\n",
      "Levels: tram veh\n"
     ]
    },
    {
     "name": "stderr",
     "output_type": "stream",
     "text": [
      "Warning message:\n",
      "“Not enough samples to compute null model by sample permutation, gene permutation will be used instead”\n",
      "'select()' returned 1:many mapping between keys and columns\n",
      "\n",
      "'select()' returned 1:many mapping between keys and columns\n",
      "\n"
     ]
    },
    {
     "name": "stdout",
     "output_type": "stream",
     "text": [
      "[1] veh  veh  veh  tram tram tram\n",
      "Levels: tram veh\n"
     ]
    },
    {
     "name": "stderr",
     "output_type": "stream",
     "text": [
      "Warning message:\n",
      "“Not enough samples to compute null model by sample permutation, gene permutation will be used instead”\n",
      "'select()' returned 1:many mapping between keys and columns\n",
      "\n"
     ]
    }
   ],
   "source": [
    "##############################\n",
    "## 1. Data analysis : VIPER ##\n",
    "##############################\n",
    "library(aracne.networks)\n",
    "data(regulonluad)\n",
    "# load('/data/Gitcode/TCGAregulon.RData')\n",
    "\n",
    "# =========================================\n",
    "# veh vs trametinib\n",
    "# =========================================\n",
    "\n",
    "sw1573edata2_24 <- sw1573edata2[,grep('24h',colnames(sw1573edata2))]\n",
    "a549edata2_24 <- a549edata2[,grep('24h',colnames(a549edata2))]\n",
    "h2009edata2_24 <- h2009edata2[,grep('24h',colnames(h2009edata2))]\n",
    "h1792edata2_24 <- h1792edata2[,grep('24h',colnames(h1792edata2))]\n",
    "\n",
    "sw1573edata2_3 <- sw1573edata2[,grep('3d',colnames(sw1573edata2))]\n",
    "a549edata2_3 <- a549edata2[,grep('3d',colnames(a549edata2))]\n",
    "h2009edata2_3 <- h2009edata2[,grep('3d',colnames(h2009edata2))]\n",
    "h1792edata2_3 <- h1792edata2[,grep('3d',colnames(h1792edata2))]\n",
    "makeExpv_eachTime <- function(edata){\n",
    "  df <- as.matrix(edata)\n",
    "  # gene symbol to entrez id\n",
    "  dfe <- bind_cols(tibble(SYMBOL=rownames(df)), df %>% as_tibble) %>% left_join(AnnotationDbi::select(hs, \n",
    "                                                                                                      keys = rownames(df),\n",
    "                                                                                                      columns = c(\"ENTREZID\", \"SYMBOL\"),\n",
    "                                                                                                      keytype = \"SYMBOL\") %>% as_tibble, by='SYMBOL') %>% drop_na\n",
    "  \n",
    "  mtx <- as.matrix(dfe[,2:(ncol(dfe)-1)])\n",
    "  rownames(mtx) <- dfe$ENTREZID\n",
    "  dset <- ExpressionSet(assayData = as.matrix(mtx))\n",
    "  featureNames(dset) <- rownames(mtx)\n",
    "  sampleNames(dset) <- colnames(mtx)\n",
    "  \n",
    "  fc<-as.factor(ifelse(grepl('tram',colnames(mtx)),'tram','veh'))\n",
    "  names(fc)<-colnames(mtx)\n",
    "  dset$description <- fc\n",
    "  print(dset$description)\n",
    "  \n",
    "  sig <- viperSignature(exprs(dset)[,grep('tram',colnames(dset))],exprs(dset)[,grep('veh',colnames(dset))],method=c('ttest'),per=1000)\n",
    "  vpres <- viper(sig,regulonluad,verbose=FALSE)\n",
    "  vpres <- data.frame(rowMeans(vpres))\n",
    "  colnames(vpres)<-'activity'\n",
    "  expv <- data.frame(ENTREZID=rownames(vpres), vpres) %>% as_tibble %>% left_join(AnnotationDbi::select(hs, \n",
    "                                                                                                        keys = rownames(vpres),\n",
    "                                                                                                        columns = c(\"ENTREZID\", \"SYMBOL\",\"UNIPROT\"),\n",
    "                                                                                                        keytype = \"ENTREZID\") %>% as_tibble, by='ENTREZID') %>% drop_na\n",
    "  \n",
    "  \n",
    "  return (expv)\n",
    "}\n",
    "\n",
    "sw1573_tram_24h <- makeExpv_eachTime(sw1573edata2_24)\n",
    "a549_tram_24h <- makeExpv_eachTime(a549edata2_24)\n",
    "h2009_tram_24h <- makeExpv_eachTime(h2009edata2_24)\n",
    "h1792_tram_24h <- makeExpv_eachTime(h1792edata2_24)\n",
    "\n",
    "sw1573_tram_3d <- makeExpv_eachTime(sw1573edata2_3)\n",
    "a549_tram_3d <- makeExpv_eachTime(a549edata2_3)\n",
    "h2009_tram_3d <- makeExpv_eachTime(h2009edata2_3)\n",
    "h1792_tram_3d <- makeExpv_eachTime(h1792edata2_3)\n",
    "\n",
    "sw1573_tram <- (sw1573_tram_24h %>% dplyr::select(SYMBOL, activity) %>% unique()) %>% left_join((sw1573_tram_3d %>% dplyr::select(SYMBOL, activity) %>% unique()), by='SYMBOL')\n",
    "a549_tram <- (a549_tram_24h %>% dplyr::select(SYMBOL, activity) %>% unique()) %>% left_join((a549_tram_3d %>% dplyr::select(SYMBOL, activity) %>% unique()), by='SYMBOL')\n",
    "h2009_tram <- (h2009_tram_24h %>% dplyr::select(SYMBOL, activity) %>% unique()) %>% left_join((h2009_tram_3d %>% dplyr::select(SYMBOL, activity) %>% unique()), by='SYMBOL')\n",
    "h1792_tram <- (h1792_tram_24h %>% dplyr::select(SYMBOL, activity) %>% unique()) %>% left_join((h1792_tram_3d %>% dplyr::select(SYMBOL, activity) %>% unique()), by='SYMBOL')\n"
   ]
  },
  {
   "cell_type": "code",
   "execution_count": null,
   "id": "e61cb06a-4359-4a4c-a0b8-d75728e2f685",
   "metadata": {
    "scrolled": true
   },
   "outputs": [],
   "source": []
  },
  {
   "cell_type": "code",
   "execution_count": null,
   "id": "2cbaacc9-0e9a-4f4a-aafe-f06789fb3cb2",
   "metadata": {},
   "outputs": [],
   "source": []
  }
 ],
 "metadata": {
  "kernelspec": {
   "display_name": "r_kernel",
   "language": "R",
   "name": "r_kernel"
  },
  "language_info": {
   "codemirror_mode": "r",
   "file_extension": ".r",
   "mimetype": "text/x-r-source",
   "name": "R",
   "pygments_lexer": "r",
   "version": "4.2.0"
  }
 },
 "nbformat": 4,
 "nbformat_minor": 5
}
