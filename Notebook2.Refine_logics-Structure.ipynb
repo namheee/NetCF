{
 "cells": [
  {
   "cell_type": "code",
   "execution_count": 105,
   "id": "b1d18a16-8ebc-48f7-a875-f18030671fd9",
   "metadata": {},
   "outputs": [],
   "source": [
    "import pandas as pd\n",
    "from collections import defaultdict\n",
    "import copy\n",
    "\n",
    "# INPUT : network structure\n",
    "net = pd.read_table('/data/Gitcode/230206_structure1.tsv', sep = '\\t')\n",
    "grouped = net.loc[:,['source_genesymbol','target_genesymbol','consensus_inhibition']].groupby(['target_genesymbol','consensus_inhibition']).aggregate(list)\n",
    "targetdict = defaultdict(list)\n",
    "\n",
    "# Make regulator logics\n",
    "for target in grouped.index:\n",
    "    if target[1] == 1 :\n",
    "            targetdict[target[0]].append('!' + '('+ ' | '.join(grouped.loc[target,:].values[0]) + ')')\n",
    "    else:\n",
    "        targetdict[target[0]].append('('+ ' & '.join(grouped.loc[target,:].values[0]) + ')')"
   ]
  },
  {
   "cell_type": "code",
   "execution_count": 28,
   "id": "187f3af7-0784-421f-ba13-eee01ecaf7d9",
   "metadata": {},
   "outputs": [],
   "source": []
  },
  {
   "cell_type": "code",
   "execution_count": 133,
   "id": "09d1eec0-f3c6-4f36-9c41-db8c4d00d247",
   "metadata": {},
   "outputs": [],
   "source": [
    "# Modify logics\n",
    "\n",
    "user_defined = \"\"\"\n",
    "EGF, EGF\n",
    "KRAS, MET | EGFR\n",
    "Proliferation, RPS6KB1 | (MYC & !CDKN1A) \n",
    "Apoptosis, (!BCL2 | !MAPK1 & !MAPK3) & (FOXO3 | !MAPK1 & TP53)\n",
    "\n",
    "EGFR, EGF | ABL1 & (!CDK1 | !PTEN)\n",
    "MET, ABL1\n",
    "MAPK1, !PPP1CA | MAP2K1 | MAP2K2 | AKT3\n",
    "MAPK3, !PPP1CA & MAPK1 | MAP2K1 | MAP2K2\n",
    "CRK, (!EGFR & ABL1) | (IRS1 & PIK3R1)\n",
    "AKT1, IRS1 & PIN1 | MTOR & (PIK3CA | PIK3R1 | PRKDC)\n",
    "AKT3, (PTEN & MTOR) & !(PPP1CA)\n",
    "BAD, !(AKT1 | AKT2 | AKT3) | !(MAP2K1 | MAPK1 | MAPK3) | !(MAPK8 | PAK1 | RPS6KB1) & CDK1 & PPP1CA\n",
    "BCL2, BCL2L1 & !BAD & !(BCL2L11 | CDK1 | NR4A1 | TP53) & !(MAPK14 | MAPK8) | (BCL2L1 & MAPK1)\n",
    "BRAF, !AKT1 | !(MAPK1 & MAPK3 & RHEB) | KRAS & PAK1\n",
    "\"\"\"\n",
    "\n",
    "userdict = {x.split(',')[0]: x.split(',')[1:] for x in user_defined.split('\\n') if x != ''}\n",
    "\n",
    "targetdict2 = copy.deepcopy(targetdict)\n",
    "for k in userdict.keys():\n",
    "    targetdict2[k] = userdict[k]"
   ]
  },
  {
   "cell_type": "code",
   "execution_count": null,
   "id": "b3ccabf4-e667-4d5c-82b9-216af642e04d",
   "metadata": {},
   "outputs": [],
   "source": []
  },
  {
   "cell_type": "code",
   "execution_count": 134,
   "id": "37c9b979-6851-478c-bd4c-40daeac082b3",
   "metadata": {},
   "outputs": [
    {
     "name": "stdout",
     "output_type": "stream",
     "text": [
      "['ABL2', 'CTNND1', 'GATA1', 'PIK3CB', 'PRKAG2']\n"
     ]
    }
   ],
   "source": [
    "source = ['&'.join(v) for v in targetdict2.values()]\n",
    "out0 = []\n",
    "for k in targetdict2.keys():\n",
    "    if k not in ''.join(source):\n",
    "        out0.append(k)\n",
    "out0.remove('Proliferation')\n",
    "out0.remove('Apoptosis')\n",
    "print(out0)"
   ]
  },
  {
   "cell_type": "code",
   "execution_count": 135,
   "id": "7b616778-528c-49f0-a7df-379cba515e58",
   "metadata": {},
   "outputs": [],
   "source": [
    "bnet = ''\n",
    "for k,v in targetdict2.items():\n",
    "    if (k not in out0) & (len(v) > 0):\n",
    "        bnet += (k + ', ' + ' & '.join(v) + '\\n')"
   ]
  },
  {
   "cell_type": "code",
   "execution_count": 136,
   "id": "8b09469b-ebeb-46a4-af5d-4e267c3b3aaa",
   "metadata": {},
   "outputs": [
    {
     "name": "stdout",
     "output_type": "stream",
     "text": [
      "ABL1, (PRKDC & PAK1 & CDK1)\n",
      "AKT1, (PIK3R1 & MTOR & PRKDC & PIK3CA & IRS1)\n",
      "AKT2, (PRKDC & MTOR & PIK3CA) & !(PPP1CA | AKT1)\n",
      "AKT3, (PTEN & MTOR) & !(PPP1CA)\n",
      "BAD, (PPP1CA & CDK1) & !(AKT1 | MAPK8 | PAK1 | AKT1 | AKT3 | AKT2 | MAPK3 | MAPK1 | MAP2K1 | RPS6KB1)\n",
      "BCL2, (MAPK1 & BCL2L1) & !(MAPK8 | TP53 | BCL2L11 | BAD | CDK1 | MAPK3 | MAPK14 | NR4A1 | AKT3 | AKT1)\n",
      "BCL2L1, (AKT1) & !(BCL2L11 | BAD | MAPK8 | TP53)\n",
      "BCL2L11, (MAPK8 & E2F1) & !(FOXO3 | MAPK3 | MAPK1 | AKT1 | AKT3 | AKT2)\n",
      "BRAF, (KRAS & PAK1) & !(MAPK1 | MAPK3 | AKT3 | AKT1 | AKT2 | RHEB)\n",
      "CDK1, !(GSK3B | ERBB2 | CDKN1A)\n",
      "CDK2, (AKT1 & MAPK1)\n",
      "CDK5, (ABL1)\n",
      "CDKN1A, (DAPK3 & SP1 & TP53 & MAPK14 & MAPK8 & SMAD2 & SMAD3) & !(AKT2 | AKT1 | MYC | CDK2 | AKT1 | AKT3 | MAPK1 | MAPK3 | GSK3B | MDM2 | FOXO3)\n",
      "CEBPA, !(MAPK1 | MAPK3 | MYC)\n",
      "CHUK, (AKT2 & AKT3 & AKT1)\n",
      "CREB1, (AKT1 & SMAD2 & JUN & AKT2 & AKT3 & MAPK1 & MAPK3) & !(GSK3B | MAPK14 | NR3C1)\n",
      "CRK,  (!EGFR & ABL1) | (IRS1 & PIK3R1)\n",
      "CTNNB1, (EP300 & PAK1 & AKT1 & CREB1 & AKT3 & AKT2 & ERBB2 & PIN1) & !(MAPK8 | PRKCD | MET | GSK3B)\n",
      "DAPK1, (MAPK1 & MAPK3)\n",
      "DAPK3, (DAPK1)\n",
      "E2F1, (CDK1 & MAPK1 & MAPK3 & SP1 & EP300) & !(CDKN1A | CDK2)\n",
      "EGFR,  EGF | ABL1 & (!CDK1 | !PTEN)\n",
      "EP300, (AKT1 & AKT2 & MAPK1 & MAPK3 & AKT3) & !(PRKAA1 | PRKCD | MDM2)\n",
      "ERBB2, (EGFR)\n",
      "ESR1, (ABL1 & SMAD3 & EGFR & ERBB2 & CDK2 & MAPK1 & MAPK3 & RPS6KB1 & AKT1 & AKT2 & GSK3B & MAPK14 & PAK1 & JUN)\n",
      "FOXO3, (AKT1 & CTNNB1 & PRKAA1 & MAPK8 & MAPK14) & !(AKT1 | AKT3 | AKT2 | MAPK1 | CDK2 | CHUK | MAPK3 | EP300)\n",
      "GSK3B, (AKT1 & STK11 & MAP2K1) & !(AKT3 | AKT2 | MAPK14 | MAPK3 | RPS6KB1)\n",
      "IRS1, !(MAPK8 | PLK1 | PRKCD | RPS6KB1 | MAP2K1 | MTOR | MAPK1 | MAPK3 | CHUK)\n",
      "JUN, (MAPK8 & GSK3B & SMAD3 & PIN1 & MAPK14 & MAPK1 & MAPK3 & ESR1) & !(ABL1)\n",
      "MAP2K1, (BRAF & EGFR & PAK1) & !(CDK1 | CDK5)\n",
      "MAP2K2, (BRAF & PAK1 & MAPK14)\n",
      "MAPK1,  !PPP1CA | MAP2K1 | MAP2K2 | AKT3\n",
      "MAPK14, (MAP2K1)\n",
      "MAPK3,  !PPP1CA & MAPK1 | MAP2K1 | MAP2K2\n",
      "MAPK8, (PRKDC & CRK & PRKCD & PIK3R1) & !(MAPK1)\n",
      "MDM2, (GSK3B & AKT1 & PPP1CA & DAPK3 & AKT3 & AKT2 & PLK1 & PRKDC) & !(ABL1)\n",
      "MET,  ABL1\n",
      "MTOR, (RHEB & ABL1 & CHUK) & !(PRKAA1)\n",
      "MYC, (CDK2 & E2F1 & MAPK3 & MAPK8 & PIN1 & PLK1 & MAPK1 & BCL2 & SP1 & CTNNB1 & CHUK & STAT3) & !(GSK3B | CEBPA | EP300 | AKT1 | JUN)\n",
      "NR3C1, (MAPK14 & JUN) & !(AKT1 | MAPK8 | CDK5 | GSK3B | MAPK3 | MAPK1 | TP53)\n",
      "NR4A1, (NR3C1 & CTNNB1 & MAPK1 & EP300) & !(MAPK8 | AKT1)\n",
      "PAK1, (ERBB2 & AKT1 & MAPK1) & !(CDK5 | CDK2 | STK11 | MAPK3)\n",
      "PIK3CA, (IRS1 & ERBB2 & EGFR & CTNNB1) & !(PTEN)\n",
      "PIK3R1, (ERBB2 & EGFR & ESR1 & CTNNB1 & IRS1 & CRK & MET) & !(PTEN)\n",
      "PIN1, (PLK1) & !(DAPK1)\n",
      "PLK1, (PAK1 & CDK1)\n",
      "PPP1CA, !(AKT1 | AKT3 | AKT2 | CDK5 | CDK2 | CDK1)\n",
      "PRKAA1, (STK11)\n",
      "PRKAB1, (TP53 & PRKAA1 & STK11)\n",
      "PRKCD, (ABL1)\n",
      "PRKDC, (EGFR) & !(PRKCD)\n",
      "PTEN, (TP53) & !(AKT1 | STK11 | GSK3B)\n",
      "RHEB, !(TSC2)\n",
      "RPS6KB1, (MTOR & AKT1 & MAPK8 & MAPK1 & MAPK3 & CDK1 & PIK3CA & RPTOR)\n",
      "RPTOR, (MTOR & MAPK1 & MAPK3 & RHEB & AKT2) & !(PRKAA1 | PRKAB1 | AKT1)\n",
      "SMAD2, (EP300 & MAPK1 & MAPK3 & MYC & MAPK8)\n",
      "SMAD3, (AKT1 & MAPK1 & MAPK3 & MYC & CREB1 & GSK3B & NR3C1 & MAPK14 & EP300 & MAPK8 & SMAD2) & !(CDK2)\n",
      "SP1, (SMAD2 & MAPK8 & CDK1 & MAPK3 & MAPK1 & MYC)\n",
      "STAT3, (EGFR & MAPK1 & MAPK3 & EP300 & MAPK14 & MAPK8 & PRKCD & CDK5 & MTOR & MAP2K1 & MAP2K2 & PIK3R1) & !(PPP1CA | CDKN1A)\n",
      "STK11, !(MAPK1 | MAPK3)\n",
      "TP53, (DAPK1 & EP300 & PRKAA1 & PRKDC & PRKCD & CDK2 & STK11 & MAPK14 & CDK5 & CDK1 & MAPK8 & DAPK3 & GSK3B & MAPK3 & PIN1 & MAPK1 & CREB1 & E2F1 & TWIST1) & !(MDM2 | PPP1CA | PLK1 | NR3C1 | BCL2L1 | NR4A1)\n",
      "TSC2, (TP53 & PRKAA1 & GSK3B & PRKAB1) & !(AKT1 | DAPK1 | MAPK3 | AKT2 | MAPK1 | AKT3)\n",
      "TWIST1, (AKT2 & AKT1 & MAPK14 & MAPK8 & MAPK3 & MAPK1 & STAT3)\n",
      "EGF,  EGF\n",
      "KRAS,  MET | EGFR\n",
      "Proliferation,  RPS6KB1 | (MYC & !CDKN1A) \n",
      "Apoptosis,  (!BCL2 | !MAPK1 & !MAPK3) & (FOXO3 | !MAPK1 & TP53)\n",
      "\n"
     ]
    }
   ],
   "source": [
    "print(bnet)"
   ]
  },
  {
   "cell_type": "code",
   "execution_count": null,
   "id": "6b4f7428-45ca-4cd9-8839-3138849a5ce3",
   "metadata": {},
   "outputs": [],
   "source": []
  },
  {
   "cell_type": "code",
   "execution_count": 90,
   "id": "18a8dafb-56bf-48a9-b223-fbb9c1e1ddf7",
   "metadata": {},
   "outputs": [],
   "source": []
  },
  {
   "cell_type": "code",
   "execution_count": 91,
   "id": "f467382b-f46e-4747-a212-637a7cf6c03d",
   "metadata": {},
   "outputs": [],
   "source": []
  },
  {
   "cell_type": "code",
   "execution_count": null,
   "id": "5d17b6b9-0c7c-4f3c-b823-dd1188a56b59",
   "metadata": {},
   "outputs": [],
   "source": []
  },
  {
   "cell_type": "code",
   "execution_count": null,
   "id": "08913dc1-e4a9-41f2-8077-92d90234d41e",
   "metadata": {},
   "outputs": [],
   "source": []
  }
 ],
 "metadata": {
  "kernelspec": {
   "display_name": "Python 3 (ipykernel)",
   "language": "python",
   "name": "python3"
  },
  "language_info": {
   "codemirror_mode": {
    "name": "ipython",
    "version": 3
   },
   "file_extension": ".py",
   "mimetype": "text/x-python",
   "name": "python",
   "nbconvert_exporter": "python",
   "pygments_lexer": "ipython3",
   "version": "3.8.10"
  }
 },
 "nbformat": 4,
 "nbformat_minor": 5
}
