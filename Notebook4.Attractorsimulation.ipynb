{
 "cells": [
  {
   "cell_type": "markdown",
   "metadata": {},
   "source": [
    "### Attractor Simulation"
   ]
  },
  {
   "cell_type": "code",
   "execution_count": 1,
   "metadata": {},
   "outputs": [],
   "source": [
    "suppressPackageStartupMessages(library(parallel))\n",
    "suppressPackageStartupMessages(library(tidyverse))\n",
    "suppressPackageStartupMessages(library(ggplot2))\n",
    "suppressPackageStartupMessages(library(BoolNet))\n",
    "suppressPackageStartupMessages(require(lhs))"
   ]
  },
  {
   "cell_type": "code",
   "execution_count": null,
   "metadata": {},
   "outputs": [],
   "source": []
  },
  {
   "cell_type": "code",
   "execution_count": 2,
   "metadata": {},
   "outputs": [],
   "source": [
    "# getwd()\n",
    "library(BoolNet)\n",
    "#############################\n",
    "# Node score : weighted sum #\n",
    "#############################\n",
    "getAttrScore <- function(attrs, nodes=NULL) {\n",
    "  basinSizes <- sapply(attrs$attractors, function(x) x$basinSize)\n",
    "  node.scores.for.attractor <- sapply(seq_along(attrs$attractors),\n",
    "                                      function(x) {\n",
    "                                        attr.seq <- getAttractorSequence(attrs, x)\n",
    "                                        apply(attr.seq, 2, mean) * basinSizes[x]\n",
    "                                      })                       \n",
    "  node.score <- apply(node.scores.for.attractor, 1, sum) / sum(basinSizes)  \n",
    "  if(!is.null(nodes)) {as.matrix(node.score[nodes])} else {as.matrix(node.score)}\n",
    "}\n",
    "\n",
    "\n",
    "############################\n",
    "# Definition of Phenotypes #\n",
    "############################\n",
    "is.no_prolif <- function(x) all(colMeans(x[,'Proliferation',drop=F])<0.5)\n",
    "is.prolif <- function(x) all(colMeans(x[,'Proliferation',drop=F])>=0.5 & colMeans(x[,'Apoptosis',drop=F])<0.5)\n",
    "is.apop <- function(x) all(colMeans(x[,'Proliferation',drop=F])<0.5 & colMeans(x[,'Apoptosis',drop=F])>=0.5)\n",
    "is.arrest <- function(x) all(colMeans(x[,'Proliferation',drop=F])>=0.5 & colMeans(x[,'Apoptosis',drop=F])>=0.5 & colMeans(x[,'CDKN1A',drop=F])>=0.5)\n",
    "\n",
    "                       \n",
    "phenotype.function.list <- list(\n",
    "  Prolif = is.prolif,\n",
    "  Apop = is.apop,\n",
    "  NoProlif = is.no_prolif,\n",
    "  Arrest = is.arrest \n",
    ")\n",
    "\n",
    "getPhenoScore <- function(attrs) {\n",
    "  basinSizes <- sapply(attrs$attractors, function(x) x$basinSize)\n",
    "  score <- apply(\n",
    "    sapply(seq_along(attrs$attractors),\n",
    "           function(x) {\n",
    "             attr.seq <- getAttractorSequence(attrs, x)\n",
    "             #print(attr.seq)\n",
    "             sapply(phenotype.function.list, function(pf) pf(attr.seq)) * basinSizes[x]\n",
    "           }), 1, sum\n",
    "  ) / sum(basinSizes)\n",
    "  score\n",
    "}"
   ]
  },
  {
   "cell_type": "code",
   "execution_count": 3,
   "metadata": {},
   "outputs": [
    {
     "data": {
      "text/html": [
       "8"
      ],
      "text/latex": [
       "8"
      ],
      "text/markdown": [
       "8"
      ],
      "text/plain": [
       "[1] 8"
      ]
     },
     "metadata": {},
     "output_type": "display_data"
    }
   ],
   "source": [
    "###################\n",
    "# Simulation part #\n",
    "###################\n",
    "# Load model\n",
    "boolnetwork <- loadNetwork('./io_relationship/LGC_Network.txt')\n",
    "\n",
    "\n",
    "# Number of initial conditions\n",
    "num_init <- 100000; \n",
    "\n",
    "## Node perturbations\n",
    "perturb.list<-list()\n",
    "perturb.list[['Resistant']] = list(ON=c('KRAS'), OFF=c())\n",
    "\n",
    "perturb.list[['Res_MEK_OFF']] = list(ON=c('KRAS'), OFF=c('MAP2K1','MAP2K2'))\n",
    "\n",
    "perturb.list[['Res_PIN1_OFF']] = list(ON=c('KRAS'), OFF=c('PIN1'))\n",
    "perturb.list[['Res_PIN1_OFF_MEK']] = list(ON=c('KRAS'), OFF=c('MAP2K1','MAP2K2','PIN1'))\n",
    "\n",
    "perturb.list[['Res_AKT1_OFF']] = list(ON=c('KRAS'), OFF=c('AKT1'))\n",
    "perturb.list[['Res_AKT1_OFF_MEK']] = list(ON=c('KRAS'), OFF=c('MAP2K1','MAP2K2','AKT1'))\n",
    "\n",
    "perturb.list[['Res_IRS1_OFF']] = list(ON=c('KRAS'), OFF=c('IRS1'))\n",
    "perturb.list[['Res_IRS1_OFF_MEK']] = list(ON=c('KRAS'), OFF=c('MAP2K1','MAP2K2','IRS1'))\n",
    "\n",
    "\n",
    "\n",
    "make_unique <- function(x) {\n",
    "  x['ON'] <- unique(x['ON'])\n",
    "  x['OFF'] <- unique(x['OFF'])\n",
    "  return(x)\n",
    "}\n",
    "\n",
    "pert.list <- lapply(perturb.list,make_unique)\n",
    "length(pert.list)"
   ]
  },
  {
   "cell_type": "code",
   "execution_count": null,
   "metadata": {},
   "outputs": [],
   "source": []
  },
  {
   "cell_type": "code",
   "execution_count": 4,
   "metadata": {},
   "outputs": [
    {
     "data": {
      "text/plain": [
       "   user  system elapsed \n",
       "124.631   3.827 128.459 "
      ]
     },
     "metadata": {},
     "output_type": "display_data"
    }
   ],
   "source": [
    "set.seed(12345)\n",
    "attr.list <- list()\n",
    "att.all <- c()\n",
    "system.time(\n",
    "  for(i in seq_along(pert.list))  {\n",
    "    #att.all <- c()\n",
    "    attrs <- getAttractors(boolnetwork, type=\"synchronous\", method=\"random\", canonical=F, avoidSelfLoops=FALSE,\n",
    "                           startStates=num_init,\n",
    "                           genesON=pert.list[[i]]$ON,\n",
    "                           genesOFF=pert.list[[i]]$OFF)\n",
    "    attr.list[[names(pert.list)[i]]] <- attrs\n",
    "    for (p in 1:length(attrs$attractors)){\n",
    "      b <- attrs$attractors[[p]]$basinSize\n",
    "      att <- getAttractorSequence(attrs, p)\n",
    "      basinsize <- c()\n",
    "      for (j in 1:length(att[,1])){basinsize <- c(basinsize,b)}\n",
    "      att <- cbind(basinsize,att)\n",
    "      att.all <- rbind(att.all,att)\n",
    "    }\n",
    "    \n",
    "    #write.table(att.all, file = paste(as.character(i),\"_attractor_all.csv\"), sep = \",\", quote = TRUE, row.names = TRUE)\n",
    "  }\n",
    ")\n",
    "\n",
    "attr.scores <- sapply(attr.list, function(x) getAttrScore(x))\n",
    "pheno.scores <- sapply(attr.list, function(x) getPhenoScore(x))\n",
    "rownames(attr.scores) <- boolnetwork$genes\n",
    "pheno.result <- data.frame(t(data.frame(rbind(pheno.scores,attr.scores))))"
   ]
  },
  {
   "cell_type": "code",
   "execution_count": null,
   "metadata": {},
   "outputs": [],
   "source": []
  },
  {
   "cell_type": "code",
   "execution_count": null,
   "metadata": {},
   "outputs": [],
   "source": []
  },
  {
   "cell_type": "code",
   "execution_count": null,
   "metadata": {
    "scrolled": true
   },
   "outputs": [],
   "source": [
    "# d <- pheno.result[,colnames(pheno.result) %in% c('Apop','Prolif','NoProlif','Arrest','Proliferation','Apoptosis')]\n",
    "# d <- d[order((d$Apoptosis-d$Proliferation), decreasing = T),]\n",
    "# d"
   ]
  },
  {
   "cell_type": "code",
   "execution_count": 6,
   "metadata": {},
   "outputs": [],
   "source": [
    "# # write.csv(pheno.result, 'pheno_result_single_double_100000.csv')\n",
    "# write.csv(attr.scores, '/data/Gitcode/attr_scores_100000.csv')"
   ]
  },
  {
   "cell_type": "code",
   "execution_count": null,
   "metadata": {},
   "outputs": [],
   "source": []
  },
  {
   "cell_type": "code",
   "execution_count": null,
   "metadata": {},
   "outputs": [],
   "source": []
  }
 ],
 "metadata": {
  "kernelspec": {
   "display_name": "r_kernel",
   "language": "R",
   "name": "r_kernel"
  },
  "language_info": {
   "codemirror_mode": "r",
   "file_extension": ".r",
   "mimetype": "text/x-r-source",
   "name": "R",
   "pygments_lexer": "r",
   "version": "4.2.0"
  }
 },
 "nbformat": 4,
 "nbformat_minor": 4
}
